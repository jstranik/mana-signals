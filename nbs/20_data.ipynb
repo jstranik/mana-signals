{
 "cells": [
  {
   "cell_type": "markdown",
   "id": "c35b617d-836f-4544-81e4-ddf7880fabc4",
   "metadata": {},
   "source": [
    "# data\n",
    "> Utilities for processing input data"
   ]
  },
  {
   "cell_type": "code",
   "execution_count": null,
   "id": "eb825b51-453b-4f4e-a1d9-5dcbd3b62049",
   "metadata": {},
   "outputs": [],
   "source": [
    "#| default_exp data"
   ]
  },
  {
   "cell_type": "code",
   "execution_count": null,
   "id": "b05c5b19-30d4-4bbb-8d14-cf06ca4d5081",
   "metadata": {},
   "outputs": [],
   "source": [
    "#| hide\n",
    "from fastcore.all import *\n",
    "from nbdev import show_doc\n",
    "from typing import Dict, List"
   ]
  },
  {
   "cell_type": "code",
   "execution_count": null,
   "id": "5e730231-e060-4260-991b-51e2cf9c69cf",
   "metadata": {},
   "outputs": [],
   "source": [
    "#| export\n",
    "import pandas as pd\n",
    "import numpy as np\n",
    "import sklearn.datasets as ds\n",
    "import sklearn.model_selection as ms\n",
    "import sklearn.ensemble as en\n",
    "from sklearn import linear_model\n",
    "\n",
    "from pathlib import Path\n",
    "from fastcore.all import *"
   ]
  },
  {
   "cell_type": "markdown",
   "id": "a0d83925-529b-4bb6-bc82-a3f7c67fcbf5",
   "metadata": {},
   "source": [
    "# Loading data from CSV"
   ]
  },
  {
   "cell_type": "code",
   "execution_count": null,
   "id": "6cd12bb0-795a-4435-a125-1ba663124be0",
   "metadata": {},
   "outputs": [],
   "source": [
    "#| export\n",
    "def load_market_data_file(market_data_file: Path # csv file to laod data from\n",
    "    ) -> pd.DataFrame: # data frame with transactions\n",
    "    \"\"\"Loads a single market data file\"\"\"\n",
    "    df = pd.read_csv(market_data_file, compression=\"gzip\")\n",
    "    df['date'] = pd.to_datetime(df.local_timestamp, unit='us')\n",
    "    df.set_index('date', inplace=True)\n",
    "    return df\n",
    "    \n"
   ]
  },
  {
   "cell_type": "code",
   "execution_count": null,
   "id": "5c439264-5c0d-401b-99f8-c412d7413b5a",
   "metadata": {},
   "outputs": [],
   "source": [
    "#| export\n",
    "def get_symbols(market_data_path: Path # directory with market data\n",
    "               ) -> List[str]: # List of symbols that have market data available\n",
    "    \"Returns a list of all symbols available at given market data dump directory\"\n",
    "    def extract_symbol(p:Path): \n",
    "        return (p.name.split('.')[1])\n",
    "\n",
    "    return list(set(map(extract_symbol, market_data_path.ls())))"
   ]
  },
  {
   "cell_type": "code",
   "execution_count": null,
   "id": "467472ae-58c5-4934-a840-1e8ee9c71ac4",
   "metadata": {},
   "outputs": [],
   "source": [
    "#| export\n",
    "def load_all_market_data_files_for_symbol(market_data_path: Path, # directory with market data\n",
    "                symbol: str # name of the symbol\n",
    "               ) -> pd.DataFrame : # dataframe with transactions \n",
    "    \"Loads all data for the given symbol\"\n",
    "    result = None\n",
    "    for file in market_data_path.glob(f\"*.{symbol}.csv.gz\"): \n",
    "        print(f'processing file {file}')\n",
    "        df = load_market_data_file(file)\n",
    "        result = df if result is None else pd.concat([result,df])\n",
    "    return result.sort_index()\n",
    "    "
   ]
  },
  {
   "cell_type": "code",
   "execution_count": null,
   "id": "460bff9b-8cd2-498a-a7f3-ef9b36a1d948",
   "metadata": {},
   "outputs": [],
   "source": [
    "#| export\n",
    "def make_sequential_stream(data_frames: List[pd.DataFrame] # frames with transacations\n",
    "                          ) -> pd.DataFrame: # sequential streamX\n",
    "    \"Takes a dictionary of data frames and merges them together according to the timestamps (index).\"\n",
    "    r = pd.concat(data_frames)\n",
    "    return r.sort_index()\n"
   ]
  },
  {
   "cell_type": "markdown",
   "id": "d1e18b12-a3b6-42e6-bc06-71cdc950a1c5",
   "metadata": {},
   "source": [
    "## Examples of how data is processed"
   ]
  },
  {
   "cell_type": "code",
   "execution_count": null,
   "id": "a907b97e-ed98-45b0-a331-09859bde56ea",
   "metadata": {},
   "outputs": [
    {
     "data": {
      "text/plain": [
       "['MATIC', 'OP', 'XRP']"
      ]
     },
     "execution_count": null,
     "metadata": {},
     "output_type": "execute_result"
    }
   ],
   "source": [
    "market_data_dir=Path('../marketdata')\n",
    "symbols=get_symbols(market_data_dir); symbols"
   ]
  },
  {
   "cell_type": "code",
   "execution_count": null,
   "id": "b1ae7912-b331-46e5-983f-504dbfa814d4",
   "metadata": {},
   "outputs": [
    {
     "name": "stdout",
     "output_type": "stream",
     "text": [
      "processing file ../marketdata/20230501.MATIC.csv.gz\n",
      "processing file ../marketdata/20231001.MATIC.csv.gz\n",
      "processing file ../marketdata/20230201.MATIC.csv.gz\n",
      "processing file ../marketdata/20230301.MATIC.csv.gz\n",
      "processing file ../marketdata/20231101.MATIC.csv.gz\n",
      "processing file ../marketdata/20230401.MATIC.csv.gz\n",
      "processing file ../marketdata/20230601.MATIC.csv.gz\n",
      "processing file ../marketdata/20230101.MATIC.csv.gz\n",
      "processing file ../marketdata/20230901.MATIC.csv.gz\n",
      "processing file ../marketdata/20230801.MATIC.csv.gz\n",
      "processing file ../marketdata/20230701.MATIC.csv.gz\n",
      "processing file ../marketdata/20231201.MATIC.csv.gz\n",
      "processing file ../marketdata/20230901.OP.csv.gz\n",
      "processing file ../marketdata/20231001.OP.csv.gz\n",
      "processing file ../marketdata/20230501.OP.csv.gz\n",
      "processing file ../marketdata/20230601.OP.csv.gz\n",
      "processing file ../marketdata/20230301.OP.csv.gz\n",
      "processing file ../marketdata/20230401.OP.csv.gz\n",
      "processing file ../marketdata/20231101.OP.csv.gz\n",
      "processing file ../marketdata/20230801.OP.csv.gz\n",
      "processing file ../marketdata/20230101.OP.csv.gz\n",
      "processing file ../marketdata/20230201.OP.csv.gz\n",
      "processing file ../marketdata/20231201.OP.csv.gz\n",
      "processing file ../marketdata/20230701.OP.csv.gz\n",
      "processing file ../marketdata/20230701.XRP.csv.gz\n",
      "processing file ../marketdata/20231201.XRP.csv.gz\n",
      "processing file ../marketdata/20230601.XRP.csv.gz\n",
      "processing file ../marketdata/20230101.XRP.csv.gz\n",
      "processing file ../marketdata/20231101.XRP.csv.gz\n",
      "processing file ../marketdata/20230301.XRP.csv.gz\n",
      "processing file ../marketdata/20230401.XRP.csv.gz\n",
      "processing file ../marketdata/20230501.XRP.csv.gz\n",
      "processing file ../marketdata/20230201.XRP.csv.gz\n",
      "processing file ../marketdata/20231001.XRP.csv.gz\n",
      "processing file ../marketdata/20230801.XRP.csv.gz\n",
      "processing file ../marketdata/20230901.XRP.csv.gz\n"
     ]
    }
   ],
   "source": [
    "loaded_data = dict((sym, load_all_market_data_files_for_symbol(market_data_dir, sym)) for sym in symbols)"
   ]
  },
  {
   "cell_type": "code",
   "execution_count": null,
   "id": "64097b87-20c1-4937-a91a-4daa5636df2e",
   "metadata": {},
   "outputs": [
    {
     "data": {
      "text/html": [
       "<div>\n",
       "<style scoped>\n",
       "    .dataframe tbody tr th:only-of-type {\n",
       "        vertical-align: middle;\n",
       "    }\n",
       "\n",
       "    .dataframe tbody tr th {\n",
       "        vertical-align: top;\n",
       "    }\n",
       "\n",
       "    .dataframe thead th {\n",
       "        text-align: right;\n",
       "    }\n",
       "</style>\n",
       "<table border=\"1\" class=\"dataframe\">\n",
       "  <thead>\n",
       "    <tr style=\"text-align: right;\">\n",
       "      <th></th>\n",
       "      <th>exchange</th>\n",
       "      <th>symbol</th>\n",
       "      <th>timestamp</th>\n",
       "      <th>local_timestamp</th>\n",
       "      <th>id</th>\n",
       "      <th>side</th>\n",
       "      <th>price</th>\n",
       "      <th>amount</th>\n",
       "    </tr>\n",
       "    <tr>\n",
       "      <th>date</th>\n",
       "      <th></th>\n",
       "      <th></th>\n",
       "      <th></th>\n",
       "      <th></th>\n",
       "      <th></th>\n",
       "      <th></th>\n",
       "      <th></th>\n",
       "      <th></th>\n",
       "    </tr>\n",
       "  </thead>\n",
       "  <tbody>\n",
       "    <tr>\n",
       "      <th>2023-01-01 00:00:02.789350</th>\n",
       "      <td>bybit</td>\n",
       "      <td>MATICUSDT</td>\n",
       "      <td>1672531202718000</td>\n",
       "      <td>1672531202789350</td>\n",
       "      <td>879e0dcd-cee1-5d5d-b031-2c8f18f14d75</td>\n",
       "      <td>buy</td>\n",
       "      <td>0.7580</td>\n",
       "      <td>2752</td>\n",
       "    </tr>\n",
       "    <tr>\n",
       "      <th>2023-01-01 00:00:06.276571</th>\n",
       "      <td>bybit</td>\n",
       "      <td>MATICUSDT</td>\n",
       "      <td>1672531206141000</td>\n",
       "      <td>1672531206276571</td>\n",
       "      <td>cf0bdde5-10ad-5cd1-acf4-8ced48b3b5fd</td>\n",
       "      <td>buy</td>\n",
       "      <td>0.7580</td>\n",
       "      <td>1790</td>\n",
       "    </tr>\n",
       "    <tr>\n",
       "      <th>2023-01-01 00:00:07.272223</th>\n",
       "      <td>bybit</td>\n",
       "      <td>MATICUSDT</td>\n",
       "      <td>1672531207221000</td>\n",
       "      <td>1672531207272223</td>\n",
       "      <td>814aa74c-3209-501f-9b49-16ae0a3fc930</td>\n",
       "      <td>sell</td>\n",
       "      <td>0.7579</td>\n",
       "      <td>673</td>\n",
       "    </tr>\n",
       "    <tr>\n",
       "      <th>2023-01-01 00:00:07.872568</th>\n",
       "      <td>bybit</td>\n",
       "      <td>MATICUSDT</td>\n",
       "      <td>1672531207791000</td>\n",
       "      <td>1672531207872568</td>\n",
       "      <td>422980a6-3f9e-5f3b-a514-4c48a14d30c1</td>\n",
       "      <td>buy</td>\n",
       "      <td>0.7580</td>\n",
       "      <td>21</td>\n",
       "    </tr>\n",
       "    <tr>\n",
       "      <th>2023-01-01 00:00:11.472638</th>\n",
       "      <td>bybit</td>\n",
       "      <td>MATICUSDT</td>\n",
       "      <td>1672531211418000</td>\n",
       "      <td>1672531211472638</td>\n",
       "      <td>b27b754d-d32d-533d-9d54-a5ab81559f29</td>\n",
       "      <td>sell</td>\n",
       "      <td>0.7579</td>\n",
       "      <td>279</td>\n",
       "    </tr>\n",
       "  </tbody>\n",
       "</table>\n",
       "</div>"
      ],
      "text/plain": [
       "                           exchange     symbol         timestamp  \\\n",
       "date                                                               \n",
       "2023-01-01 00:00:02.789350    bybit  MATICUSDT  1672531202718000   \n",
       "2023-01-01 00:00:06.276571    bybit  MATICUSDT  1672531206141000   \n",
       "2023-01-01 00:00:07.272223    bybit  MATICUSDT  1672531207221000   \n",
       "2023-01-01 00:00:07.872568    bybit  MATICUSDT  1672531207791000   \n",
       "2023-01-01 00:00:11.472638    bybit  MATICUSDT  1672531211418000   \n",
       "\n",
       "                             local_timestamp  \\\n",
       "date                                           \n",
       "2023-01-01 00:00:02.789350  1672531202789350   \n",
       "2023-01-01 00:00:06.276571  1672531206276571   \n",
       "2023-01-01 00:00:07.272223  1672531207272223   \n",
       "2023-01-01 00:00:07.872568  1672531207872568   \n",
       "2023-01-01 00:00:11.472638  1672531211472638   \n",
       "\n",
       "                                                              id  side  \\\n",
       "date                                                                     \n",
       "2023-01-01 00:00:02.789350  879e0dcd-cee1-5d5d-b031-2c8f18f14d75   buy   \n",
       "2023-01-01 00:00:06.276571  cf0bdde5-10ad-5cd1-acf4-8ced48b3b5fd   buy   \n",
       "2023-01-01 00:00:07.272223  814aa74c-3209-501f-9b49-16ae0a3fc930  sell   \n",
       "2023-01-01 00:00:07.872568  422980a6-3f9e-5f3b-a514-4c48a14d30c1   buy   \n",
       "2023-01-01 00:00:11.472638  b27b754d-d32d-533d-9d54-a5ab81559f29  sell   \n",
       "\n",
       "                             price  amount  \n",
       "date                                        \n",
       "2023-01-01 00:00:02.789350  0.7580    2752  \n",
       "2023-01-01 00:00:06.276571  0.7580    1790  \n",
       "2023-01-01 00:00:07.272223  0.7579     673  \n",
       "2023-01-01 00:00:07.872568  0.7580      21  \n",
       "2023-01-01 00:00:11.472638  0.7579     279  "
      ]
     },
     "execution_count": null,
     "metadata": {},
     "output_type": "execute_result"
    }
   ],
   "source": [
    "loaded_data['MATIC'].head()"
   ]
  },
  {
   "cell_type": "code",
   "execution_count": null,
   "id": "5db75adf-5630-4d23-8aae-00171af353fd",
   "metadata": {},
   "outputs": [],
   "source": [
    "d = make_sequential_stream(loaded_data.values())"
   ]
  },
  {
   "cell_type": "markdown",
   "id": "be845d5e-8ac3-42ef-ba57-a869f06af40c",
   "metadata": {},
   "source": [
    "Here we have merged all individual symbol data into a single data frame.\n",
    "\n",
    "The data frame can be used as a \"market feed\" to the market engine."
   ]
  },
  {
   "cell_type": "code",
   "execution_count": null,
   "id": "349a1c34-a1a6-4a98-a9ed-3bcad81315d3",
   "metadata": {},
   "outputs": [
    {
     "data": {
      "text/html": [
       "<div>\n",
       "<style scoped>\n",
       "    .dataframe tbody tr th:only-of-type {\n",
       "        vertical-align: middle;\n",
       "    }\n",
       "\n",
       "    .dataframe tbody tr th {\n",
       "        vertical-align: top;\n",
       "    }\n",
       "\n",
       "    .dataframe thead th {\n",
       "        text-align: right;\n",
       "    }\n",
       "</style>\n",
       "<table border=\"1\" class=\"dataframe\">\n",
       "  <thead>\n",
       "    <tr style=\"text-align: right;\">\n",
       "      <th></th>\n",
       "      <th>exchange</th>\n",
       "      <th>symbol</th>\n",
       "      <th>timestamp</th>\n",
       "      <th>local_timestamp</th>\n",
       "      <th>id</th>\n",
       "      <th>side</th>\n",
       "      <th>price</th>\n",
       "      <th>amount</th>\n",
       "    </tr>\n",
       "    <tr>\n",
       "      <th>date</th>\n",
       "      <th></th>\n",
       "      <th></th>\n",
       "      <th></th>\n",
       "      <th></th>\n",
       "      <th></th>\n",
       "      <th></th>\n",
       "      <th></th>\n",
       "      <th></th>\n",
       "    </tr>\n",
       "  </thead>\n",
       "  <tbody>\n",
       "    <tr>\n",
       "      <th>2023-01-01 00:00:01.916181</th>\n",
       "      <td>bybit</td>\n",
       "      <td>XRPUSDT</td>\n",
       "      <td>1672531201785000</td>\n",
       "      <td>1672531201916181</td>\n",
       "      <td>fc9b084c-f895-502d-b69d-d0912173d089</td>\n",
       "      <td>buy</td>\n",
       "      <td>0.3391</td>\n",
       "      <td>1.0</td>\n",
       "    </tr>\n",
       "    <tr>\n",
       "      <th>2023-01-01 00:00:01.916181</th>\n",
       "      <td>bybit</td>\n",
       "      <td>XRPUSDT</td>\n",
       "      <td>1672531201785000</td>\n",
       "      <td>1672531201916181</td>\n",
       "      <td>f2ee430c-9576-5bcf-aac6-5243292797ac</td>\n",
       "      <td>buy</td>\n",
       "      <td>0.3391</td>\n",
       "      <td>2.0</td>\n",
       "    </tr>\n",
       "    <tr>\n",
       "      <th>2023-01-01 00:00:01.916181</th>\n",
       "      <td>bybit</td>\n",
       "      <td>XRPUSDT</td>\n",
       "      <td>1672531201785000</td>\n",
       "      <td>1672531201916181</td>\n",
       "      <td>869f353f-af7d-51f5-ae85-4c006f5322b7</td>\n",
       "      <td>buy</td>\n",
       "      <td>0.3391</td>\n",
       "      <td>1458.0</td>\n",
       "    </tr>\n",
       "    <tr>\n",
       "      <th>2023-01-01 00:00:02.215099</th>\n",
       "      <td>bybit</td>\n",
       "      <td>XRPUSDT</td>\n",
       "      <td>1672531202078000</td>\n",
       "      <td>1672531202215099</td>\n",
       "      <td>9da1a13d-de98-570c-a070-ff97a3549058</td>\n",
       "      <td>sell</td>\n",
       "      <td>0.3390</td>\n",
       "      <td>1.0</td>\n",
       "    </tr>\n",
       "    <tr>\n",
       "      <th>2023-01-01 00:00:02.315516</th>\n",
       "      <td>bybit</td>\n",
       "      <td>XRPUSDT</td>\n",
       "      <td>1672531202240000</td>\n",
       "      <td>1672531202315516</td>\n",
       "      <td>74cc44d2-8625-5530-ba3e-8c1f823c98db</td>\n",
       "      <td>sell</td>\n",
       "      <td>0.3390</td>\n",
       "      <td>80.0</td>\n",
       "    </tr>\n",
       "    <tr>\n",
       "      <th>2023-01-01 00:00:02.618189</th>\n",
       "      <td>bybit</td>\n",
       "      <td>XRPUSDT</td>\n",
       "      <td>1672531202534000</td>\n",
       "      <td>1672531202618189</td>\n",
       "      <td>0987dc83-a13c-514c-8877-123a2441c2f4</td>\n",
       "      <td>sell</td>\n",
       "      <td>0.3390</td>\n",
       "      <td>70.0</td>\n",
       "    </tr>\n",
       "    <tr>\n",
       "      <th>2023-01-01 00:00:02.789350</th>\n",
       "      <td>bybit</td>\n",
       "      <td>MATICUSDT</td>\n",
       "      <td>1672531202718000</td>\n",
       "      <td>1672531202789350</td>\n",
       "      <td>879e0dcd-cee1-5d5d-b031-2c8f18f14d75</td>\n",
       "      <td>buy</td>\n",
       "      <td>0.7580</td>\n",
       "      <td>2752.0</td>\n",
       "    </tr>\n",
       "    <tr>\n",
       "      <th>2023-01-01 00:00:03.417761</th>\n",
       "      <td>bybit</td>\n",
       "      <td>XRPUSDT</td>\n",
       "      <td>1672531203361000</td>\n",
       "      <td>1672531203417761</td>\n",
       "      <td>2383e7c1-c42f-5193-b8b7-a9e53cd197f6</td>\n",
       "      <td>sell</td>\n",
       "      <td>0.3390</td>\n",
       "      <td>132.0</td>\n",
       "    </tr>\n",
       "    <tr>\n",
       "      <th>2023-01-01 00:00:03.515103</th>\n",
       "      <td>bybit</td>\n",
       "      <td>XRPUSDT</td>\n",
       "      <td>1672531203456000</td>\n",
       "      <td>1672531203515103</td>\n",
       "      <td>6dff80b1-3ba6-5d44-82fa-9be768300661</td>\n",
       "      <td>sell</td>\n",
       "      <td>0.3390</td>\n",
       "      <td>110.0</td>\n",
       "    </tr>\n",
       "    <tr>\n",
       "      <th>2023-01-01 00:00:04.114629</th>\n",
       "      <td>bybit</td>\n",
       "      <td>XRPUSDT</td>\n",
       "      <td>1672531204030000</td>\n",
       "      <td>1672531204114629</td>\n",
       "      <td>22f32e05-fa32-5dd5-bc55-1fd0ac4a284b</td>\n",
       "      <td>sell</td>\n",
       "      <td>0.3390</td>\n",
       "      <td>1179.0</td>\n",
       "    </tr>\n",
       "  </tbody>\n",
       "</table>\n",
       "</div>"
      ],
      "text/plain": [
       "                           exchange     symbol         timestamp  \\\n",
       "date                                                               \n",
       "2023-01-01 00:00:01.916181    bybit    XRPUSDT  1672531201785000   \n",
       "2023-01-01 00:00:01.916181    bybit    XRPUSDT  1672531201785000   \n",
       "2023-01-01 00:00:01.916181    bybit    XRPUSDT  1672531201785000   \n",
       "2023-01-01 00:00:02.215099    bybit    XRPUSDT  1672531202078000   \n",
       "2023-01-01 00:00:02.315516    bybit    XRPUSDT  1672531202240000   \n",
       "2023-01-01 00:00:02.618189    bybit    XRPUSDT  1672531202534000   \n",
       "2023-01-01 00:00:02.789350    bybit  MATICUSDT  1672531202718000   \n",
       "2023-01-01 00:00:03.417761    bybit    XRPUSDT  1672531203361000   \n",
       "2023-01-01 00:00:03.515103    bybit    XRPUSDT  1672531203456000   \n",
       "2023-01-01 00:00:04.114629    bybit    XRPUSDT  1672531204030000   \n",
       "\n",
       "                             local_timestamp  \\\n",
       "date                                           \n",
       "2023-01-01 00:00:01.916181  1672531201916181   \n",
       "2023-01-01 00:00:01.916181  1672531201916181   \n",
       "2023-01-01 00:00:01.916181  1672531201916181   \n",
       "2023-01-01 00:00:02.215099  1672531202215099   \n",
       "2023-01-01 00:00:02.315516  1672531202315516   \n",
       "2023-01-01 00:00:02.618189  1672531202618189   \n",
       "2023-01-01 00:00:02.789350  1672531202789350   \n",
       "2023-01-01 00:00:03.417761  1672531203417761   \n",
       "2023-01-01 00:00:03.515103  1672531203515103   \n",
       "2023-01-01 00:00:04.114629  1672531204114629   \n",
       "\n",
       "                                                              id  side  \\\n",
       "date                                                                     \n",
       "2023-01-01 00:00:01.916181  fc9b084c-f895-502d-b69d-d0912173d089   buy   \n",
       "2023-01-01 00:00:01.916181  f2ee430c-9576-5bcf-aac6-5243292797ac   buy   \n",
       "2023-01-01 00:00:01.916181  869f353f-af7d-51f5-ae85-4c006f5322b7   buy   \n",
       "2023-01-01 00:00:02.215099  9da1a13d-de98-570c-a070-ff97a3549058  sell   \n",
       "2023-01-01 00:00:02.315516  74cc44d2-8625-5530-ba3e-8c1f823c98db  sell   \n",
       "2023-01-01 00:00:02.618189  0987dc83-a13c-514c-8877-123a2441c2f4  sell   \n",
       "2023-01-01 00:00:02.789350  879e0dcd-cee1-5d5d-b031-2c8f18f14d75   buy   \n",
       "2023-01-01 00:00:03.417761  2383e7c1-c42f-5193-b8b7-a9e53cd197f6  sell   \n",
       "2023-01-01 00:00:03.515103  6dff80b1-3ba6-5d44-82fa-9be768300661  sell   \n",
       "2023-01-01 00:00:04.114629  22f32e05-fa32-5dd5-bc55-1fd0ac4a284b  sell   \n",
       "\n",
       "                             price  amount  \n",
       "date                                        \n",
       "2023-01-01 00:00:01.916181  0.3391     1.0  \n",
       "2023-01-01 00:00:01.916181  0.3391     2.0  \n",
       "2023-01-01 00:00:01.916181  0.3391  1458.0  \n",
       "2023-01-01 00:00:02.215099  0.3390     1.0  \n",
       "2023-01-01 00:00:02.315516  0.3390    80.0  \n",
       "2023-01-01 00:00:02.618189  0.3390    70.0  \n",
       "2023-01-01 00:00:02.789350  0.7580  2752.0  \n",
       "2023-01-01 00:00:03.417761  0.3390   132.0  \n",
       "2023-01-01 00:00:03.515103  0.3390   110.0  \n",
       "2023-01-01 00:00:04.114629  0.3390  1179.0  "
      ]
     },
     "execution_count": null,
     "metadata": {},
     "output_type": "execute_result"
    }
   ],
   "source": [
    "d.head(10)"
   ]
  },
  {
   "cell_type": "code",
   "execution_count": null,
   "id": "697a8538-bb43-4a76-b5d6-406785d4b16b",
   "metadata": {},
   "outputs": [
    {
     "data": {
      "text/plain": [
       "6548374"
      ]
     },
     "execution_count": null,
     "metadata": {},
     "output_type": "execute_result"
    }
   ],
   "source": [
    "len(d)"
   ]
  },
  {
   "cell_type": "markdown",
   "id": "03685f32-22a2-48ff-af86-2b43ac35c997",
   "metadata": {},
   "source": [
    "We have about 6m of data points"
   ]
  },
  {
   "cell_type": "code",
   "execution_count": null,
   "id": "9e8740b9-8120-4723-add8-be10d67377fa",
   "metadata": {},
   "outputs": [
    {
     "data": {
      "text/plain": [
       "date\n",
       "2023-01-01 00:00:01.916181    XRPUSDT\n",
       "2023-01-01 00:00:01.916181    XRPUSDT\n",
       "2023-01-01 00:00:01.916181    XRPUSDT\n",
       "2023-01-01 00:00:02.215099    XRPUSDT\n",
       "2023-01-01 00:00:02.315516    XRPUSDT\n",
       "                               ...   \n",
       "2023-12-01 23:59:59.538142    XRPUSDT\n",
       "2023-12-01 23:59:59.538142    XRPUSDT\n",
       "2023-12-01 23:59:59.538142    XRPUSDT\n",
       "2023-12-01 23:59:59.538142    XRPUSDT\n",
       "2023-12-01 23:59:59.565317    XRPUSDT\n",
       "Name: symbol, Length: 6548374, dtype: object"
      ]
     },
     "execution_count": null,
     "metadata": {},
     "output_type": "execute_result"
    }
   ],
   "source": [
    "d['symbol']"
   ]
  },
  {
   "cell_type": "markdown",
   "id": "78d1a834-0fa7-47af-aec8-259e739c17de",
   "metadata": {},
   "source": [
    "... across 3 symbols."
   ]
  },
  {
   "cell_type": "code",
   "execution_count": null,
   "id": "5f88a849-5096-4c7e-b2ea-971ce75bd77e",
   "metadata": {},
   "outputs": [],
   "source": [
    "#| hide\n",
    "import nbdev; nbdev.nbdev_export()"
   ]
  }
 ],
 "metadata": {
  "kernelspec": {
   "display_name": "python3",
   "language": "python",
   "name": "python3"
  },
  "widgets": {
   "application/vnd.jupyter.widget-state+json": {
    "state": {},
    "version_major": 2,
    "version_minor": 0
   }
  }
 },
 "nbformat": 4,
 "nbformat_minor": 5
}
