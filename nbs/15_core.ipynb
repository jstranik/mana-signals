{
 "cells": [
  {
   "cell_type": "markdown",
   "metadata": {},
   "source": [
    "# core\n",
    "\n",
    "> Basic primitives for composing signals"
   ]
  },
  {
   "cell_type": "code",
   "execution_count": null,
   "metadata": {},
   "outputs": [],
   "source": [
    "#| default_exp core"
   ]
  },
  {
   "cell_type": "code",
   "execution_count": null,
   "metadata": {},
   "outputs": [],
   "source": [
    "#| hide\n",
    "from nbdev.showdoc import *"
   ]
  },
  {
   "cell_type": "code",
   "execution_count": null,
   "metadata": {},
   "outputs": [],
   "source": [
    "#| export\n",
    "from mana_signals.reactive import *\n",
    "from fastcore.all import *\n",
    "import numpy as np\n",
    "from sklearn import linear_model"
   ]
  },
  {
   "cell_type": "code",
   "execution_count": null,
   "metadata": {},
   "outputs": [],
   "source": [
    "#| export\n",
    "class RDelay(RValue):\n",
    "    \"\"\"Value shifted from the calculation by given delay\"\"\"\n",
    "    def __init__(self, source:RValue,  # source value\n",
    "                 delay_n:int=1 # amount of shift\n",
    "                ): \n",
    "        super().__init__()\n",
    "        store_attr();\n",
    "        self.history = np.full(delay_n+1, np.nan)\n",
    "    def calc(self): \n",
    "        self.history = np.roll(self.history, shift=1)\n",
    "        self.history[0] = self.source.value\n",
    "        return self.history[-1]\n",
    "        \n",
    "        "
   ]
  },
  {
   "cell_type": "markdown",
   "metadata": {},
   "source": [
    "Example of using shifted reactive value"
   ]
  },
  {
   "cell_type": "code",
   "execution_count": null,
   "metadata": {},
   "outputs": [
    {
     "name": "stdout",
     "output_type": "stream",
     "text": [
      "nan\n",
      "0.0\n",
      "8.0\n"
     ]
    }
   ],
   "source": [
    "a = RInput(0)\n",
    "v = RDelay(a, delay_n=1)\n",
    "print(v.value)\n",
    "a.set_value(8);print(v.value)\n",
    "a.set_value(1);print(v.value)"
   ]
  },
  {
   "cell_type": "code",
   "execution_count": null,
   "metadata": {},
   "outputs": [
    {
     "data": {
      "text/plain": [
       "array([3, 1, 2])"
      ]
     },
     "execution_count": null,
     "metadata": {},
     "output_type": "execute_result"
    }
   ],
   "source": [
    "a=np.array([1,2,3])\n",
    "np.roll(a, shift=1)"
   ]
  },
  {
   "cell_type": "code",
   "execution_count": null,
   "metadata": {},
   "outputs": [],
   "source": [
    "#| export\n",
    "class RLastn(RValue): \n",
    "    \"\"\"Last n values collected from the given source\"\"\"\n",
    "    def __init__(self, source: RValue, # source value\n",
    "                 n:int = 1, # number of values to collect\n",
    "                 missing_val = np.nan # filler value for missing data\n",
    "                ): \n",
    "        super().__init__()\n",
    "        self.source,self.n = source,n\n",
    "        self.lastn = np.full(n, missing_val)\n",
    "    def calc(self): \n",
    "        self.lastn = np.roll(self.lastn, shift=1)\n",
    "        self.lastn[0] = self.source.value\n",
    "        return self.lastn"
   ]
  },
  {
   "cell_type": "code",
   "execution_count": null,
   "metadata": {},
   "outputs": [
    {
     "name": "stdout",
     "output_type": "stream",
     "text": [
      "[ 0. nan nan]\n",
      "[ 0.  0. nan]\n",
      "[1. 0. 0.]\n",
      "[2. 1. 0.]\n",
      "[3. 2. 1.]\n"
     ]
    }
   ],
   "source": [
    "a = RInput(0)\n",
    "v = RLastn(a, 3)\n",
    "for i in range(5): \n",
    "    print(v.value)\n",
    "    a.set_value(i)\n"
   ]
  },
  {
   "cell_type": "code",
   "execution_count": null,
   "metadata": {},
   "outputs": [],
   "source": [
    "#| export\n",
    "class RMean(RValue): \n",
    "    \"\"\"Calculates mean of the last n values\"\"\"\n",
    "    def __init__(self, source: RValue, # source value\n",
    "                 n:int # number of values to calculate the mean\n",
    "                ): \n",
    "        super().__init__()\n",
    "        self.last = RLastn(source, n, missing_val=np.nan)\n",
    "    def calc(self): return self.last.value.mean()"
   ]
  },
  {
   "cell_type": "code",
   "execution_count": null,
   "metadata": {},
   "outputs": [
    {
     "name": "stdout",
     "output_type": "stream",
     "text": [
      "nan [ 0. nan nan]\n",
      "nan [ 1.  0. nan]\n",
      "1.0 [2. 1. 0.]\n",
      "2.0 [3. 2. 1.]\n",
      "3.0 [4. 3. 2.]\n"
     ]
    }
   ],
   "source": [
    "a = RInput(0)\n",
    "v = RMean(a, 3)\n",
    "for i in range(5): \n",
    "    print(v.value, v.last.value)\n",
    "    a.set_value(i+1)\n"
   ]
  },
  {
   "cell_type": "code",
   "execution_count": null,
   "metadata": {},
   "outputs": [],
   "source": [
    "#| export\n",
    "class RLinRegression(RValue): \n",
    "    \"\"\"Calculates linear regression for the source\n",
    "       xs and ys should be of the same length.\n",
    "    \"\"\"\n",
    "    def __init__(self, xs: RValue, # xs independent values\n",
    "                 ys:RValue # ys dependent values\n",
    "                ):\n",
    "        super().__init__()\n",
    "        store_attr()\n",
    "        self.model = linear_model.LinearRegression()\n",
    "    def calc(self): \n",
    "        in_x = self.xs.value.reshape(-1,1)\n",
    "        in_y = self.ys.value\n",
    "        model.fit(in_x, in_y)\n",
    "        return self.model\n",
    "\n",
    "    def predict(self, x): \n",
    "        \"\"\"Given x, predicts next value y based on linear regression\"\"\"\n",
    "        v = self.value.predict(np.array([[x]]))\n",
    "        return v[0]"
   ]
  },
  {
   "cell_type": "code",
   "execution_count": null,
   "metadata": {},
   "outputs": [
    {
     "data": {
      "text/markdown": [
       "---\n",
       "\n",
       "### RLinRegression.predict\n",
       "\n",
       ">      RLinRegression.predict (x)\n",
       "\n",
       "Given x, predicts next value y based on linear regression"
      ],
      "text/plain": [
       "---\n",
       "\n",
       "### RLinRegression.predict\n",
       "\n",
       ">      RLinRegression.predict (x)\n",
       "\n",
       "Given x, predicts next value y based on linear regression"
      ]
     },
     "execution_count": null,
     "metadata": {},
     "output_type": "execute_result"
    }
   ],
   "source": [
    "show_doc(RLinRegression.predict)"
   ]
  },
  {
   "cell_type": "code",
   "execution_count": null,
   "metadata": {},
   "outputs": [],
   "source": [
    "#| hide\n",
    "import nbdev; nbdev.nbdev_export()"
   ]
  },
  {
   "cell_type": "code",
   "execution_count": null,
   "metadata": {},
   "outputs": [
    {
     "data": {
      "text/plain": [
       "(array([2.]), array([9.]))"
      ]
     },
     "execution_count": null,
     "metadata": {},
     "output_type": "execute_result"
    }
   ],
   "source": [
    "xs=np.array([1,2,3]).reshape(-1,1)\n",
    "ys=np.array([0,5,4])\n",
    "reg = linear_model.LinearRegression()\n",
    "reg.fit(xs,ys)\n",
    "reg.coef_, reg.predict(np.array([[5]]))"
   ]
  }
 ],
 "metadata": {
  "kernelspec": {
   "display_name": "python3",
   "language": "python",
   "name": "python3"
  },
  "widgets": {
   "application/vnd.jupyter.widget-state+json": {
    "state": {},
    "version_major": 2,
    "version_minor": 0
   }
  }
 },
 "nbformat": 4,
 "nbformat_minor": 4
}
