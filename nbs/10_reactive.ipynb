{
 "cells": [
  {
   "cell_type": "markdown",
   "id": "0234ab27-e933-425b-8986-b5a57c47eb5d",
   "metadata": {},
   "source": [
    "# reactive\n",
    "> Reactive calculations for on-demand calculation (a.k.a. excel calc graph)"
   ]
  },
  {
   "cell_type": "code",
   "execution_count": null,
   "id": "6af58f29-f00f-4b99-b0f4-ed681b77de29",
   "metadata": {},
   "outputs": [],
   "source": [
    "#| default_exp reactive"
   ]
  },
  {
   "cell_type": "code",
   "execution_count": null,
   "id": "1825d49b-4886-42ff-8db7-7917e3beff41",
   "metadata": {},
   "outputs": [],
   "source": [
    "#| hide\n",
    "import pandas as pd\n",
    "import numpy as np\n",
    "import sklearn.datasets as ds\n",
    "import sklearn.model_selection as ms\n",
    "import sklearn.ensemble as en\n",
    "from sklearn import linear_model"
   ]
  },
  {
   "cell_type": "markdown",
   "id": "cb13d338-b5f5-41aa-be94-d1827d21fbc4",
   "metadata": {},
   "source": [
    "# Ractive Values and inputs\n",
    "\n",
    "We define basic abstractions for calculations"
   ]
  },
  {
   "cell_type": "code",
   "execution_count": null,
   "id": "c936e5b7-51e7-4d5f-81d0-1cf9edab4631",
   "metadata": {},
   "outputs": [],
   "source": [
    "#| export\n",
    "from fastcore.all import *\n",
    "from nbdev import show_doc"
   ]
  },
  {
   "cell_type": "code",
   "execution_count": null,
   "id": "c5e7e6af-f6f5-41b3-96d4-07564290e19c",
   "metadata": {},
   "outputs": [],
   "source": [
    "#| hide\n",
    "class TraceCalcTree():\n",
    "    \"Helper method to trace calculations\"\n",
    "    trace = False\n",
    "    def __enter__(self): \n",
    "        trace = True\n",
    "    def __exit__(self): \n",
    "        trace = False\n",
    "    @staticmethod\n",
    "    def on_calced(value): \n",
    "        if TraceCalcTree.trace: print(f'Calculating node -> {value}')"
   ]
  },
  {
   "cell_type": "markdown",
   "id": "4b554cd2-ef69-4454-9d6c-b6b2bcf262a1",
   "metadata": {},
   "source": [
    "## RModel\n",
    "\n",
    "Tracks timesteps of the calculation.\n",
    "\n",
    "Reactive values can use either the global singleton or a dedicated instance"
   ]
  },
  {
   "cell_type": "code",
   "execution_count": null,
   "id": "c9498cb9-760f-4105-ba4b-630504cba9e3",
   "metadata": {},
   "outputs": [],
   "source": [
    "#| export\n",
    "class RModel(): \n",
    "    \"Reactive model defines global calculation timer\"\n",
    "    ts: int # current time step of the calculation\n",
    "    def __init__(self): self.ts = 0\n",
    "    def step(self): \n",
    "        \"Increases the timestep of the reactive model\"\n",
    "        self.ts += 1\n",
    "    __repr__ = basic_repr('ts')\n",
    "    "
   ]
  },
  {
   "cell_type": "code",
   "execution_count": null,
   "id": "1699435d-05fe-47de-bca4-559a67b01a05",
   "metadata": {},
   "outputs": [
    {
     "data": {
      "text/markdown": [
       "---\n",
       "\n",
       "[source](https://github.com/jstranik/mana-signals/blob/main/mana_signals/reactive.py#L27){target=\"_blank\" style=\"float:right; font-size:smaller\"}\n",
       "\n",
       "### RModel.step\n",
       "\n",
       ">      RModel.step ()\n",
       "\n",
       "Increases the timestep of the reactive model"
      ],
      "text/plain": [
       "---\n",
       "\n",
       "[source](https://github.com/jstranik/mana-signals/blob/main/mana_signals/reactive.py#L27){target=\"_blank\" style=\"float:right; font-size:smaller\"}\n",
       "\n",
       "### RModel.step\n",
       "\n",
       ">      RModel.step ()\n",
       "\n",
       "Increases the timestep of the reactive model"
      ]
     },
     "execution_count": null,
     "metadata": {},
     "output_type": "execute_result"
    }
   ],
   "source": [
    "show_doc(RModel.step)"
   ]
  },
  {
   "cell_type": "code",
   "execution_count": null,
   "id": "32ddb057-f2d3-4160-be44-601e8c8bcfe1",
   "metadata": {},
   "outputs": [],
   "source": [
    "#| export \n",
    "singleton_model = RModel() # Global singleton for model (used if not passed down to calculations)"
   ]
  },
  {
   "cell_type": "markdown",
   "id": "9c841a82-9a98-41c3-9153-27a4a6bcae01",
   "metadata": {},
   "source": [
    "We also have a global variable `singleton_model` to represent a global singleton. "
   ]
  },
  {
   "cell_type": "markdown",
   "id": "aa4203e8-2a6e-448f-9ba1-de38109c157c",
   "metadata": {},
   "source": [
    "## Basic Primitives"
   ]
  },
  {
   "cell_type": "code",
   "execution_count": null,
   "id": "87ae6e92-b255-4150-84d1-0e9fd89b29c6",
   "metadata": {},
   "outputs": [],
   "source": [
    "#| export\n",
    "class RValue():\n",
    "    \"\"\"Basic reactive calculation primitive\n",
    "\n",
    "    The object represents a cachable reactive value. \n",
    "\n",
    "    Method `calc`() on an object is called whenever a value of the object is needed. \n",
    "    The value is cached in an object. \n",
    "    The value is automatically invalidated whenever its inputs changes.\n",
    "    \"\"\"\n",
    "    __repr__ = basic_repr('cached_value,ts_checked,ts_updated,model')\n",
    "    def __init__(self, model:RModel=singleton_model): \n",
    "        self.cached_value, self.ts_checked, self.ts_updated = (None, 0, 0)\n",
    "        self.deps, self.model = None, model\n",
    "    def set_model(self,model:RModel): \n",
    "        \"\"\"Sets model for the calculated value. \n",
    "        Setting model also sets automatically model for all dependent values\n",
    "        \"\"\"\n",
    "        self.model = model\n",
    "        for v in self.get_dependents(): v.set_model(model)\n",
    "\n",
    "    def invalidate_if_outdated(self): \n",
    "        if self.ts_checked < self.model.ts: \n",
    "            dep_ts = [v.invalidate_if_outdated() for v in self.get_dependents()]\n",
    "            max_dep_ts = max(dep_ts) if dep_ts else 0\n",
    "            if self.ts_updated < max_dep_ts: \n",
    "                self.ts_updated = max_dep_ts\n",
    "                self.cached_value = None\n",
    "            self.ts_checked = self.model.ts\n",
    "        return self.ts_updated\n",
    "\n",
    "    def is_outdated(self): \n",
    "        \"\"\"Returns true if the value changed due to update to dependent inputs\"\"\"\n",
    "        self.invalidate_if_outdated()\n",
    "        return self.cached_value is None\n",
    "        \n",
    "    def get_dependents(self): \n",
    "        \"\"\"Returns all RValues that this calculation depends on\"\"\"\n",
    "        if self.deps is None: \n",
    "            self.deps = [ v for (n,v) in self.__dict__.items() if isinstance(v,RValue)]\n",
    "        return self.deps\n",
    "        \n",
    "    @property\n",
    "    def value(self): \n",
    "        \"\"\"Returns value of the RValue object. \n",
    "        If the value is outdated, the calc method is automatically called\n",
    "        \"\"\"\n",
    "        if self.model.ts > self.ts_checked :\n",
    "            self.invalidate_if_outdated()\n",
    "        if self.cached_value is None: self.cached_value = self.calc()\n",
    "        return self.cached_value\n",
    "  \n",
    "    def calc(self): \n",
    "        \"\"\"Calculates the value. Must be overriden\"\"\"\n",
    "        raise NotImplementedError('RValue.calc method must be overriden')\n",
    "\n"
   ]
  },
  {
   "cell_type": "code",
   "execution_count": null,
   "id": "23bb107c-884d-40ac-b1c1-4e1776d021f6",
   "metadata": {},
   "outputs": [
    {
     "data": {
      "text/markdown": [
       "---\n",
       "\n",
       "[source](https://github.com/jstranik/mana-signals/blob/main/mana_signals/reactive.py#L67){target=\"_blank\" style=\"float:right; font-size:smaller\"}\n",
       "\n",
       "### RValue.get_dependents\n",
       "\n",
       ">      RValue.get_dependents ()\n",
       "\n",
       "Returns all RValues that this calculation depends on"
      ],
      "text/plain": [
       "---\n",
       "\n",
       "[source](https://github.com/jstranik/mana-signals/blob/main/mana_signals/reactive.py#L67){target=\"_blank\" style=\"float:right; font-size:smaller\"}\n",
       "\n",
       "### RValue.get_dependents\n",
       "\n",
       ">      RValue.get_dependents ()\n",
       "\n",
       "Returns all RValues that this calculation depends on"
      ]
     },
     "execution_count": null,
     "metadata": {},
     "output_type": "execute_result"
    }
   ],
   "source": [
    "show_doc(RValue.get_dependents)"
   ]
  },
  {
   "cell_type": "code",
   "execution_count": null,
   "id": "5c685e5f-22ab-40c1-839d-7ee3fb5a735e",
   "metadata": {},
   "outputs": [
    {
     "data": {
      "text/markdown": [
       "---\n",
       "\n",
       "[source](https://github.com/jstranik/mana-signals/blob/main/mana_signals/reactive.py#L74){target=\"_blank\" style=\"float:right; font-size:smaller\"}\n",
       "\n",
       "### RValue.value\n",
       "\n",
       ">      RValue.value ()\n",
       "\n",
       "Returns value of the RValue object. \n",
       "If the value is outdated, the calc method is automatically called"
      ],
      "text/plain": [
       "---\n",
       "\n",
       "[source](https://github.com/jstranik/mana-signals/blob/main/mana_signals/reactive.py#L74){target=\"_blank\" style=\"float:right; font-size:smaller\"}\n",
       "\n",
       "### RValue.value\n",
       "\n",
       ">      RValue.value ()\n",
       "\n",
       "Returns value of the RValue object. \n",
       "If the value is outdated, the calc method is automatically called"
      ]
     },
     "execution_count": null,
     "metadata": {},
     "output_type": "execute_result"
    }
   ],
   "source": [
    "show_doc(RValue.value)"
   ]
  },
  {
   "cell_type": "code",
   "execution_count": null,
   "id": "6b8c9d66-6832-4ed5-9518-b570bbf67f90",
   "metadata": {},
   "outputs": [
    {
     "data": {
      "text/markdown": [
       "---\n",
       "\n",
       "### RValue.is_outdated\n",
       "\n",
       ">      RValue.is_outdated ()\n",
       "\n",
       "Returns true if the value changed due to update to dependent inputs"
      ],
      "text/plain": [
       "---\n",
       "\n",
       "### RValue.is_outdated\n",
       "\n",
       ">      RValue.is_outdated ()\n",
       "\n",
       "Returns true if the value changed due to update to dependent inputs"
      ]
     },
     "execution_count": null,
     "metadata": {},
     "output_type": "execute_result"
    }
   ],
   "source": [
    "show_doc(RValue.is_outdated)"
   ]
  },
  {
   "cell_type": "code",
   "execution_count": null,
   "id": "09a122f0-f9e3-4687-a09d-0253dfd57b46",
   "metadata": {},
   "outputs": [
    {
     "data": {
      "text/markdown": [
       "---\n",
       "\n",
       "[source](https://github.com/jstranik/mana-signals/blob/main/mana_signals/reactive.py#L83){target=\"_blank\" style=\"float:right; font-size:smaller\"}\n",
       "\n",
       "### RValue.calc\n",
       "\n",
       ">      RValue.calc ()\n",
       "\n",
       "Calculates the value. Must be overriden"
      ],
      "text/plain": [
       "---\n",
       "\n",
       "[source](https://github.com/jstranik/mana-signals/blob/main/mana_signals/reactive.py#L83){target=\"_blank\" style=\"float:right; font-size:smaller\"}\n",
       "\n",
       "### RValue.calc\n",
       "\n",
       ">      RValue.calc ()\n",
       "\n",
       "Calculates the value. Must be overriden"
      ]
     },
     "execution_count": null,
     "metadata": {},
     "output_type": "execute_result"
    }
   ],
   "source": [
    "show_doc(RValue.calc)"
   ]
  },
  {
   "cell_type": "code",
   "execution_count": null,
   "id": "5ca130c0-3de3-4327-9cf8-35388b1e8e88",
   "metadata": {},
   "outputs": [],
   "source": [
    "#| export \n",
    "class RInput(RValue):\n",
    "    \"\"\"\n",
    "    Represents input value to the calculation\n",
    "\n",
    "    Input values are `RValue`s that can be set using `RInput.set_value`.\n",
    "    \"\"\"\n",
    "    def __init__(self, init_value): super().__init__(); self.cached_value = init_value\n",
    "    def set_value(self, value): \n",
    "        \"\"\"\n",
    "        Sets the value of the RValue object. \n",
    "        Any other reactive values that depend on this value are automatically invalidated\n",
    "        \"\"\"\n",
    "        self.model.step()\n",
    "        self.ts_checked = self.ts_updated = self.model.ts\n",
    "        self.cached_value = value\n",
    "    def calc(self): raise NotImplementedError(\"Input value not provided\")\n"
   ]
  },
  {
   "cell_type": "code",
   "execution_count": null,
   "id": "f0f4d4d0-946e-47d8-9bde-75581ebe5be6",
   "metadata": {},
   "outputs": [
    {
     "data": {
      "text/markdown": [
       "---\n",
       "\n",
       "[source](https://github.com/jstranik/mana-signals/blob/main/mana_signals/reactive.py#L97){target=\"_blank\" style=\"float:right; font-size:smaller\"}\n",
       "\n",
       "### RInput.set_value\n",
       "\n",
       ">      RInput.set_value (value)\n",
       "\n",
       "Sets the value of the RValue object. \n",
       "Any other reactive values that depend on this value are automatically invalidated"
      ],
      "text/plain": [
       "---\n",
       "\n",
       "[source](https://github.com/jstranik/mana-signals/blob/main/mana_signals/reactive.py#L97){target=\"_blank\" style=\"float:right; font-size:smaller\"}\n",
       "\n",
       "### RInput.set_value\n",
       "\n",
       ">      RInput.set_value (value)\n",
       "\n",
       "Sets the value of the RValue object. \n",
       "Any other reactive values that depend on this value are automatically invalidated"
      ]
     },
     "execution_count": null,
     "metadata": {},
     "output_type": "execute_result"
    }
   ],
   "source": [
    "show_doc(RInput.set_value)"
   ]
  },
  {
   "cell_type": "markdown",
   "id": "0c8ea452-581b-4bd6-84db-f27fc87144ed",
   "metadata": {},
   "source": [
    "## Examples"
   ]
  },
  {
   "cell_type": "markdown",
   "id": "4c150e94-7942-442e-9b05-25b78f72860c",
   "metadata": {},
   "source": [
    "### Caching of calculation\n",
    "\n",
    "Most basic usage of reactive values. Here we create a reactive value with 2 inputs and calculate the result"
   ]
  },
  {
   "cell_type": "code",
   "execution_count": null,
   "id": "acb5efb7-eb41-4c5f-9f99-6286be6c8de9",
   "metadata": {},
   "outputs": [
    {
     "name": "stdout",
     "output_type": "stream",
     "text": [
      "calculating value c\n"
     ]
    },
    {
     "data": {
      "text/plain": [
       "3"
      ]
     },
     "execution_count": null,
     "metadata": {},
     "output_type": "execute_result"
    }
   ],
   "source": [
    "a = RInput(1)\n",
    "b = RInput(2)\n",
    "class RCalc(RValue):\n",
    "    def __init__(self,a,b): super().__init__(); self.a,self.b = a,b\n",
    "    def calc(self):\n",
    "        print(\"calculating value c\")\n",
    "        return self.a.value + self.b.value\n",
    "c= RCalc(a,b)\n",
    "c.value\n",
    "\n",
    "\n"
   ]
  },
  {
   "cell_type": "code",
   "execution_count": null,
   "id": "80654f20-fe18-4599-951d-bc6eee9ae523",
   "metadata": {},
   "outputs": [],
   "source": []
  },
  {
   "cell_type": "code",
   "execution_count": null,
   "id": "01e14de5-230d-42bf-ab4a-7fd8c4f9b789",
   "metadata": {},
   "outputs": [
    {
     "data": {
      "text/plain": [
       "3"
      ]
     },
     "execution_count": null,
     "metadata": {},
     "output_type": "execute_result"
    }
   ],
   "source": [
    "c.value\n"
   ]
  },
  {
   "cell_type": "code",
   "execution_count": null,
   "id": "a0b02f01-e250-47d8-a972-985efa3d5e1d",
   "metadata": {},
   "outputs": [],
   "source": [
    "a.set_value(5)"
   ]
  },
  {
   "cell_type": "code",
   "execution_count": null,
   "id": "28827fa5-8a73-42c8-bc27-e5d35c652896",
   "metadata": {},
   "outputs": [
    {
     "name": "stdout",
     "output_type": "stream",
     "text": [
      "calculating value c\n"
     ]
    },
    {
     "data": {
      "text/plain": [
       "7"
      ]
     },
     "execution_count": null,
     "metadata": {},
     "output_type": "execute_result"
    }
   ],
   "source": [
    "c.value"
   ]
  },
  {
   "cell_type": "markdown",
   "id": "2d0fd7f5-07f0-445d-8c0c-0271de60c97a",
   "metadata": {},
   "source": [
    "### Simplified definition of calculation\n",
    "\n",
    "Let's make writing calculated values a little bit easier."
   ]
  },
  {
   "cell_type": "code",
   "execution_count": null,
   "id": "4f800986-b07e-47c9-9e80-d06c641d7d29",
   "metadata": {},
   "outputs": [],
   "source": [
    "#| export\n",
    "def rcalc(func):\n",
    "    \"\"\"\n",
    "    A decorator for converting a simple function to a reactive value\n",
    "    \"\"\"\n",
    "    class RCalcClass(RValue):\n",
    "        def __init__(self, *args):\n",
    "            super().__init__()\n",
    "          \n",
    "            self.deps = args\n",
    "            \n",
    "        def calc(self):\n",
    "            return func(*[a.value for a in self.deps])\n",
    "\n",
    "    RCalcClass.__name__ = func.__name__.capitalize()\n",
    "    return RCalcClass"
   ]
  },
  {
   "cell_type": "code",
   "execution_count": null,
   "id": "51d630b6-d852-494f-8296-4c4c26af7284",
   "metadata": {},
   "outputs": [
    {
     "data": {
      "text/plain": [
       "3"
      ]
     },
     "execution_count": null,
     "metadata": {},
     "output_type": "execute_result"
    }
   ],
   "source": [
    "a = RInput(1)\n",
    "b = RInput(2)\n",
    "\n",
    "@rcalc\n",
    "def adder(a,b): return a+b\n",
    "c = adder(a,b)\n",
    "c.value"
   ]
  },
  {
   "cell_type": "code",
   "execution_count": null,
   "id": "7af28ef3-f0f5-463b-af9f-e43ec22e8b0b",
   "metadata": {},
   "outputs": [
    {
     "data": {
      "text/plain": [
       "9"
      ]
     },
     "execution_count": null,
     "metadata": {},
     "output_type": "execute_result"
    }
   ],
   "source": [
    "a.set_value(7)\n",
    "c.value\n"
   ]
  },
  {
   "cell_type": "code",
   "execution_count": null,
   "id": "f40648dc-20ce-45a9-a5e0-334ad2d5d5bb",
   "metadata": {},
   "outputs": [],
   "source": [
    "#| hide\n",
    "import nbdev; nbdev.nbdev_export()"
   ]
  }
 ],
 "metadata": {
  "kernelspec": {
   "display_name": "python3",
   "language": "python",
   "name": "python3"
  },
  "widgets": {
   "application/vnd.jupyter.widget-state+json": {
    "state": {},
    "version_major": 2,
    "version_minor": 0
   }
  }
 },
 "nbformat": 4,
 "nbformat_minor": 5
}
