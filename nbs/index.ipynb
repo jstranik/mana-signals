{
 "cells": [
  {
   "cell_type": "code",
   "execution_count": null,
   "metadata": {},
   "outputs": [],
   "source": [
    "#| hide\n",
    "from mana_signals.core import *\n",
    "from mana_signals.reactive import *"
   ]
  },
  {
   "cell_type": "markdown",
   "metadata": {},
   "source": [
    "# mana-signals\n",
    "\n",
    "> Signal Computation System"
   ]
  },
  {
   "cell_type": "markdown",
   "metadata": {},
   "source": [
    "A computational engine with reactive values for real-time processing of the data.\n"
   ]
  },
  {
   "cell_type": "markdown",
   "metadata": {},
   "source": [
    "## Install"
   ]
  },
  {
   "cell_type": "markdown",
   "metadata": {},
   "source": [
    "```sh\n",
    "pip install git+https://github.com/jstranik/mana-signals.git\n",
    "```"
   ]
  },
  {
   "cell_type": "markdown",
   "metadata": {},
   "source": [
    "## How to use"
   ]
  },
  {
   "cell_type": "markdown",
   "metadata": {},
   "source": [
    "The package contains a library for processing market data and making signal generators. \n",
    "\n",
    "Documentation of the library is avaialble at https://jstranik.github.io/mana-signals/reactive.html\n",
    "\n",
    "However here is a small teaser: "
   ]
  },
  {
   "cell_type": "code",
   "execution_count": null,
   "metadata": {},
   "outputs": [
    {
     "name": "stdout",
     "output_type": "stream",
     "text": [
      "[ 0. nan nan]\n",
      "[ 0.  0. nan]\n",
      "[1. 0. 0.]\n",
      "[2. 1. 0.]\n",
      "[3. 2. 1.]\n"
     ]
    }
   ],
   "source": [
    "a = RInput(0)\n",
    "v = RLastn(a, 3)\n",
    "for i in range(5): \n",
    "    print(v.value)\n",
    "    a.set_value(i)"
   ]
  },
  {
   "cell_type": "markdown",
   "metadata": {},
   "source": [
    "Above example shows a reactive primite RLastn which collect last 3 values of the data. \n",
    "The reactive values recalculate on demand when an input is change. \n",
    "Therefore accessing `v.value` mutliple times does not trigger recalculation unless `a` is changed. "
   ]
  },
  {
   "cell_type": "markdown",
   "metadata": {},
   "source": [
    "## Demo script\n",
    "\n",
    "The package contain a simple demo application (available in demo module) which processes market data and on every tick prints a mean market volatility across symbols.\n",
    "\n",
    "The demo app can be invoked as: \n",
    "\n",
    "> $> simulate_signal_processing ../marketdata/20230601.MATIC.csv.gz\n",
    "\n",
    "The application will print in realtime to the console actual market volatility on every market input. \n"
   ]
  }
 ],
 "metadata": {
  "kernelspec": {
   "display_name": "python3",
   "language": "python",
   "name": "python3"
  },
  "widgets": {
   "application/vnd.jupyter.widget-state+json": {
    "state": {},
    "version_major": 2,
    "version_minor": 0
   }
  }
 },
 "nbformat": 4,
 "nbformat_minor": 4
}
