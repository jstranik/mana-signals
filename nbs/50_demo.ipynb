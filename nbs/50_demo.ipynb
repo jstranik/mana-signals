{
 "cells": [
  {
   "cell_type": "markdown",
   "id": "f9bf1c5b-ac17-416e-af89-ffbf8b9ebf06",
   "metadata": {},
   "source": [
    "# demo\n",
    "> some simple signal processing"
   ]
  },
  {
   "cell_type": "code",
   "execution_count": null,
   "id": "d3b5924d-8b97-4f5e-8ba2-41e62642ce1e",
   "metadata": {},
   "outputs": [],
   "source": [
    "#|default_exp demo"
   ]
  },
  {
   "cell_type": "markdown",
   "id": "9fab8ce5-c947-4dbb-a407-d220eb078546",
   "metadata": {},
   "source": [
    "We will design a system that consumes market data. The market data is processed and sybmol ticks are pushed to the system. \n",
    "\n",
    "The system will process data and calculate a volatility of market.  Volatility of the market is defined as a mean volatility across the price volatility of individual symbols. \n",
    "\n",
    "We define a volatility of symbol as a standard deviation of last 20 trades in log scale.\n"
   ]
  },
  {
   "cell_type": "code",
   "execution_count": null,
   "id": "165be44a-4bab-4585-bfb3-5813a90a316f",
   "metadata": {},
   "outputs": [],
   "source": [
    "#| export\n",
    "from mana_signals.core import *\n",
    "from mana_signals.reactive import *\n",
    "from mana_signals.data import *\n",
    "import numpy as np\n",
    "from typing import List\n",
    "from pathlib import Path\n",
    "import argparse\n"
   ]
  },
  {
   "cell_type": "code",
   "execution_count": null,
   "id": "0dd03cb3-3cd4-4d41-b11d-1e509f70cd85",
   "metadata": {},
   "outputs": [],
   "source": [
    "#| export\n",
    "class RVolCalculator(RValue): \n",
    "    \"\"\"\n",
    "    Vol calculator for given price input.\n",
    "\n",
    "    Calculates vol of last 20 price ticks for a given input.\n",
    "    \"\"\"\n",
    "    def __init__(self, priceInput: RValue):\n",
    "        super().__init__()\n",
    "        self.last_trades = RLastn(priceInput, n=20)\n",
    "    def calc(self): return np.std(np.log1p(self.last_trades.value))"
   ]
  },
  {
   "cell_type": "code",
   "execution_count": null,
   "id": "ba603f45-49be-4819-8643-9a2bc08c885c",
   "metadata": {},
   "outputs": [],
   "source": [
    "#| export\n",
    "class RMarketVol(RValue): \n",
    "    \"\"\"\n",
    "    calculates average volatility of the given price inputs\n",
    "    \"\"\"\n",
    "    def __init__(self,symbol_prices: List[RValue]):\n",
    "        super().__init__()\n",
    "        self.deps = [RVolCalculator(v) for v in symbol_prices]\n",
    "    def calc(self): \n",
    "        vols = np.array([d.value for d in self.deps])\n",
    "        return np.nanmean(vols)"
   ]
  },
  {
   "cell_type": "code",
   "execution_count": null,
   "id": "8f5d2f90-a926-4baf-8129-b4a88c2c4dda",
   "metadata": {},
   "outputs": [],
   "source": [
    "#| export\n",
    "class ExecEngine():\n",
    "    \"\"\"Execution engine for the market\"\"\"\n",
    "    def load_all_market_data_files(self, directory: Path):\n",
    "        syms = get_symbols(directory)\n",
    "        frames = [load_symbol(directory, sym) for sym in syms]\n",
    "        self.market_data = make_sequential_stream(frames)\n",
    "\n",
    "    def load_market_data_files(self, files: List[Path]): \n",
    "        frames = [load_market_data_file(file) for file in files]\n",
    "        self.market_data = make_sequential_stream(frames)\n",
    "\n",
    "    def run(self): \n",
    "        \"Runs the engine by feeding market data to the system\"\n",
    "        for ts, row in self.market_data.iterrows():\n",
    "            self.process(ts, row)\n",
    "    def process(self, ts, row): raise NotImplementedError('Override engine process function')\n",
    "        \n",
    "        "
   ]
  },
  {
   "cell_type": "markdown",
   "id": "7231ab34-6392-4d22-bace-9baadec84ba4",
   "metadata": {},
   "source": [
    "# Simple Exec Engine"
   ]
  },
  {
   "cell_type": "code",
   "execution_count": null,
   "id": "7480d891-04c5-44ec-a575-69325d133391",
   "metadata": {},
   "outputs": [],
   "source": [
    "engine = ExecEngine()\n",
    "engine.load_market_data_files([Path('../marketdata/20230101.MATIC.csv.gz')])"
   ]
  },
  {
   "cell_type": "code",
   "execution_count": null,
   "id": "d1a9ad95-434f-45b4-b52d-5f27ceba03aa",
   "metadata": {},
   "outputs": [
    {
     "data": {
      "text/plain": [
       "DatetimeIndex(['2023-01-01 00:00:02.789350', '2023-01-01 00:00:06.276571',\n",
       "               '2023-01-01 00:00:07.272223', '2023-01-01 00:00:07.872568',\n",
       "               '2023-01-01 00:00:11.472638', '2023-01-01 00:00:11.472638',\n",
       "               '2023-01-01 00:00:11.472638', '2023-01-01 00:00:11.472638',\n",
       "               '2023-01-01 00:00:11.472638', '2023-01-01 00:00:11.472638',\n",
       "               ...\n",
       "               '2023-01-01 23:59:10.772233', '2023-01-01 23:59:29.672451',\n",
       "               '2023-01-01 23:59:29.672451', '2023-01-01 23:59:29.672451',\n",
       "               '2023-01-01 23:59:56.772372', '2023-01-01 23:59:56.772372',\n",
       "               '2023-01-01 23:59:56.772372', '2023-01-01 23:59:56.772372',\n",
       "               '2023-01-01 23:59:57.772425', '2023-01-01 23:59:57.772425'],\n",
       "              dtype='datetime64[ns]', name='date', length=26151, freq=None)"
      ]
     },
     "execution_count": null,
     "metadata": {},
     "output_type": "execute_result"
    }
   ],
   "source": [
    "engine.market_data.index"
   ]
  },
  {
   "cell_type": "markdown",
   "id": "c086233f-0c8a-4968-9aab-8a86190b0d82",
   "metadata": {},
   "source": [
    "# VolSignalEngine"
   ]
  },
  {
   "cell_type": "code",
   "execution_count": null,
   "id": "fac10e64-de4c-40b8-a057-bc5c59ecd34e",
   "metadata": {},
   "outputs": [],
   "source": [
    "#| export\n",
    "class SignalEngine(ExecEngine):\n",
    "    def __init__(self): \n",
    "        super().__init__()\n",
    "        self.market_price_inputs = {\n",
    "            'MATICUSDT': RInput(np.nan),\n",
    "            'OP': RInput(np.nan),\n",
    "            'XRP': RInput(np.nan)\n",
    "        }\n",
    "        self.market_vol = RMarketVol(self.market_price_inputs.values())\n",
    "        self.result=[]\n",
    "\n",
    "    def process(self, ts, row):\n",
    "        input = self.market_price_inputs[row.symbol]\n",
    "        input.set_value(row.price)\n",
    "        self.output(f'{ts}, {self.market_vol.value}')\n",
    "\n",
    "    def output(self, line): \n",
    "        self.result.append(line)\n",
    "        \n",
    "    "
   ]
  },
  {
   "cell_type": "code",
   "execution_count": null,
   "id": "ec2b7290-e394-44cc-ab71-442e662c07bf",
   "metadata": {},
   "outputs": [],
   "source": [
    "engine = SignalEngine()"
   ]
  },
  {
   "cell_type": "code",
   "execution_count": null,
   "id": "d74fcdd7-2e4a-4e02-a2d3-5222964e1a4c",
   "metadata": {},
   "outputs": [],
   "source": [
    "engine.load_market_data_files(['../marketdata/20230101.MATIC.csv.gz'])"
   ]
  },
  {
   "cell_type": "code",
   "execution_count": null,
   "id": "78caa130-7ddd-4b33-8ef7-5d489e7b49c8",
   "metadata": {},
   "outputs": [
    {
     "name": "stderr",
     "output_type": "stream",
     "text": [
      "/var/folders/l_/l7636tpj5zzd5cx3pwzdd8k00000gn/T/ipykernel_29920/1427249217.py:11: RuntimeWarning: Mean of empty slice\n",
      "  return np.nanmean(vols)\n"
     ]
    }
   ],
   "source": [
    "engine.run()"
   ]
  },
  {
   "cell_type": "code",
   "execution_count": null,
   "id": "a395d3d1-24c8-42d5-ba92-d4accd742c25",
   "metadata": {},
   "outputs": [
    {
     "data": {
      "text/plain": [
       "['2023-01-01 23:59:10.772233, 6.0864435782985807e-05',\n",
       " '2023-01-01 23:59:29.672451, 5.472028913292919e-05',\n",
       " '2023-01-01 23:59:29.672451, 4.7112437455448106e-05',\n",
       " '2023-01-01 23:59:29.672451, 4.4377844789784614e-05',\n",
       " '2023-01-01 23:59:56.772372, 5.042174862790632e-05',\n",
       " '2023-01-01 23:59:56.772372, 5.56702216927174e-05',\n",
       " '2023-01-01 23:59:56.772372, 6.19808456245811e-05',\n",
       " '2023-01-01 23:59:56.772372, 6.3460650664703e-05',\n",
       " '2023-01-01 23:59:57.772425, 6.224075795312596e-05',\n",
       " '2023-01-01 23:59:57.772425, 6.086400637705373e-05']"
      ]
     },
     "execution_count": null,
     "metadata": {},
     "output_type": "execute_result"
    }
   ],
   "source": [
    "engine.result[-10:]"
   ]
  },
  {
   "cell_type": "markdown",
   "id": "3985a40b-7fc9-4198-945b-0afd348f9e49",
   "metadata": {},
   "source": [
    "And we got results collected to the output\n"
   ]
  },
  {
   "cell_type": "markdown",
   "id": "e909ad40-3c58-4b08-a9ef-30f25c7ee783",
   "metadata": {},
   "source": [
    "# Command line utility for real time processing\n",
    "\n",
    "For the demo, we also create a command line utility for processing data\n",
    "\n",
    "Invocation: \n",
    "\n",
    "> simulate_signal_processing --data ./marketdata/20230101.MATIC.csv.gz\n",
    "> "
   ]
  },
  {
   "cell_type": "code",
   "execution_count": null,
   "id": "7313bd88-81ad-48b6-8edd-13926aa02e73",
   "metadata": {},
   "outputs": [],
   "source": [
    "#| export\n",
    "class SignalEngineLive(SignalEngine):\n",
    "    def output(self, line): print(line)"
   ]
  },
  {
   "cell_type": "code",
   "execution_count": null,
   "id": "db6d009a-d361-44bc-8dae-338d78e170d5",
   "metadata": {},
   "outputs": [
    {
     "name": "stderr",
     "output_type": "stream",
     "text": [
      "/var/folders/l_/l7636tpj5zzd5cx3pwzdd8k00000gn/T/ipykernel_29920/1427249217.py:11: RuntimeWarning: Mean of empty slice\n",
      "  return np.nanmean(vols)\n"
     ]
    }
   ],
   "source": [
    "engine = SignalEngineLive()\n",
    "engine.load_market_data_files(['../marketdata/20230101.MATIC.csv.gz'])\n",
    "engine.run()"
   ]
  },
  {
   "cell_type": "code",
   "execution_count": null,
   "id": "e9cf13b0-cf74-4939-a3fc-f4ec87f34d32",
   "metadata": {},
   "outputs": [],
   "source": [
    "#|export\n",
    "\n",
    "def simulate_signal_processing():\n",
    "    \"\"\"Script entry point for signal processing\"\"\"\n",
    "    parser = argparse.ArgumentParser(description='Simulate Signal Processing')\n",
    "    parser.add_argument('data', type=str, help='input data file in csv format')\n",
    "    args = parser.parse_args()\n",
    "    engine = SignalEngineLive()\n",
    "    engine.load_market_data_files([args.data])\n",
    "    engine.run()\n"
   ]
  },
  {
   "cell_type": "code",
   "execution_count": null,
   "id": "4b699408-6487-460d-867b-7bc2a39ff732",
   "metadata": {},
   "outputs": [],
   "source": [
    "#| hide\n",
    "import nbdev; nbdev.nbdev_export()"
   ]
  }
 ],
 "metadata": {
  "kernelspec": {
   "display_name": "python3",
   "language": "python",
   "name": "python3"
  },
  "widgets": {
   "application/vnd.jupyter.widget-state+json": {
    "state": {},
    "version_major": 2,
    "version_minor": 0
   }
  }
 },
 "nbformat": 4,
 "nbformat_minor": 5
}
